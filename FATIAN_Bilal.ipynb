{
 "cells": [
  {
   "cell_type": "markdown",
   "id": "590d4afb-8e3c-4160-9b57-53c96262054c",
   "metadata": {},
   "source": [
    "# My Jupyter Notebook on IBM Watson Studio\n"
   ]
  },
  {
   "cell_type": "markdown",
   "id": "e233b542-b51b-4bfa-a69d-77cc09842113",
   "metadata": {},
   "source": [
    "**FATIAN Bilal**\n",
    "\n",
    "I am an data science student, and i want to be a data analyst.\n"
   ]
  },
  {
   "cell_type": "markdown",
   "id": "2186803d-b766-4d84-a204-de95fd00f29c",
   "metadata": {},
   "source": [
    "*I am interested in data science because it is a rapidly growing field that has the potential to solve complex problems and drive innovation.*\n",
    "\n",
    "*By analyzing data and creating models, data scientists can gain insights and make data-driven decisions to improve outcomes in various industries and domains.*"
   ]
  },
  {
   "cell_type": "markdown",
   "id": "796486b3-fb8e-4591-8a09-6074293c9c66",
   "metadata": {},
   "source": [
    "### Compute the sum of two numbers"
   ]
  },
  {
   "cell_type": "code",
   "execution_count": 5,
   "id": "6dd683c2-db8c-429a-820c-b11cf36d3a56",
   "metadata": {},
   "outputs": [
    {
     "data": {
      "text/plain": [
       "2"
      ]
     },
     "execution_count": 5,
     "metadata": {},
     "output_type": "execute_result"
    }
   ],
   "source": [
    "1 + 1"
   ]
  },
  {
   "cell_type": "markdown",
   "id": "3f037675-2cc8-4376-a925-ddc66a8590f5",
   "metadata": {},
   "source": [
    "---\n",
    "\n",
    "### My Favorite Things\n",
    "\n",
    "Here is a list of my favorite things:\n",
    "- Ice cream\n",
    "- Pizza\n",
    "- Music\n",
    "- Movies\n",
    "\n",
    "Here is a comparison of my favorite ice cream flavors:\n",
    "\n",
    "| Flavor | Rating |\n",
    "| ------ | ------ |\n",
    "| Vanilla | 5/5 |\n",
    "| Chocolate | 5/5 |\n",
    "| Strawberry | 4/5 |\n",
    "\n",
    "You can find more information about my favorite music [on Spotify](https://open.spotify.com/).\n",
    "\n",
    "Here's an example of code syntax highlighting in Python:\n",
    "\n",
    "```python\n",
    "def my_function():\n",
    "    print(\"Hello, World!\")\n"
   ]
  }
 ],
 "metadata": {
  "kernelspec": {
   "display_name": "Python 3 (ipykernel)",
   "language": "python",
   "name": "python3"
  },
  "language_info": {
   "codemirror_mode": {
    "name": "ipython",
    "version": 3
   },
   "file_extension": ".py",
   "mimetype": "text/x-python",
   "name": "python",
   "nbconvert_exporter": "python",
   "pygments_lexer": "ipython3",
   "version": "3.9.16"
  }
 },
 "nbformat": 4,
 "nbformat_minor": 5
}
